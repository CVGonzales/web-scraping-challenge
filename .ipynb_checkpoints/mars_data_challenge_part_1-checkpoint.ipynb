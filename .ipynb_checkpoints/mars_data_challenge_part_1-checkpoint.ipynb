{
 "cells": [
  {
   "cell_type": "code",
   "execution_count": 1,
   "id": "ff8e20d2",
   "metadata": {},
   "outputs": [],
   "source": [
    "# Dependencies\n",
    "from bs4 import BeautifulSoup\n",
    "from splinter import Browser\n",
    "from webdriver_manager.chrome import ChromeDriverManager"
   ]
  },
  {
   "cell_type": "code",
   "execution_count": 2,
   "id": "d8f0a08b",
   "metadata": {},
   "outputs": [
    {
     "name": "stderr",
     "output_type": "stream",
     "text": [
      "[WDM] - Downloading: 100%|████████████████████████████████████████████████████████| 6.29M/6.29M [00:00<00:00, 6.65MB/s]\n"
     ]
    }
   ],
   "source": [
    "# Setup splinter\n",
    "executable_path = {'executable_path': ChromeDriverManager().install()}\n",
    "browser = Browser('chrome', **executable_path, headless=False)"
   ]
  },
  {
   "cell_type": "code",
   "execution_count": 3,
   "id": "57a30c6c",
   "metadata": {},
   "outputs": [],
   "source": [
    "# URL of page to be scraped\n",
    "url = 'https://redplanetscience.com/'\n",
    "browser.visit(url)"
   ]
  },
  {
   "cell_type": "code",
   "execution_count": 8,
   "id": "f5ff3d2d",
   "metadata": {},
   "outputs": [],
   "source": [
    "# loop over results to get title data\n",
    "\n",
    "html = browser.html\n",
    "soup = BeautifulSoup(html, 'html.parser')\n",
    "\n",
    "titles = soup.find_all('div', class_='content_title')\n",
    "\n",
    "title1 = titles[0].text\n",
    "title2 = titles[1].text\n",
    "title3 = titles[2].text\n",
    "title4 = titles[3].text\n",
    "title5 = titles[4].text\n",
    "title6 = titles[5].text\n",
    "title7 = titles[6].text\n",
    "title8 = titles[7].text\n",
    "title9 = titles[8].text\n",
    "title10 = titles[9].text\n",
    "title11 = titles[10].text\n",
    "title12 = titles[11].text\n",
    "title13 = titles[12].text\n",
    "title14 = titles[13].text\n",
    "title15 = titles[14].text\n",
    "\n",
    "\n",
    "\n",
    "# for title in titles:\n",
    "#     print(title.text)\n",
    "\n"
   ]
  },
  {
   "cell_type": "code",
   "execution_count": 9,
   "id": "fa361409",
   "metadata": {},
   "outputs": [],
   "source": [
    "# loop over results to get preview data\n",
    "\n",
    "html = browser.html\n",
    "soup = BeautifulSoup(html, 'html.parser')\n",
    "\n",
    "previews = soup.find_all('div', class_='article_teaser_body')\n",
    "\n",
    "preview1 = previews[0].text\n",
    "preview2 = previews[1].text\n",
    "preview3 = previews[2].text\n",
    "preview4 = previews[3].text\n",
    "preview5 = previews[4].text\n",
    "preview6 = previews[5].text\n",
    "preview7 = previews[6].text\n",
    "preview8 = previews[7].text\n",
    "preview9 = previews[8].text\n",
    "preview10 = previews[9].text\n",
    "preview11 = previews[10].text\n",
    "preview12 = previews[11].text\n",
    "preview13 = previews[12].text\n",
    "preview14 = previews[13].text\n",
    "preview15 = previews[14].text\n",
    "\n",
    "\n",
    "# for preview in previews:\n",
    "#     print(preview.text)"
   ]
  },
  {
   "cell_type": "code",
   "execution_count": 12,
   "id": "34613603",
   "metadata": {},
   "outputs": [],
   "source": [
    "# Create dictionaries with scraped data\n",
    "\n",
    "article1 = {\"Title\": title1, \"Preview\": preview1}\n",
    "article2 = {\"Title\": title2, \"Preview\": preview2}\n",
    "article3 = {\"Title\": title3, \"Preview\": preview3}\n",
    "article4 = {\"Title\": title4, \"Preview\": preview4}\n",
    "article5 = {\"Title\": title5, \"Preview\": preview5}\n",
    "article6 = {\"Title\": title6, \"Preview\": preview6}\n",
    "article7 = {\"Title\": title7, \"Preview\": preview7}\n",
    "article8 = {\"Title\": title8, \"Preview\": preview8}\n",
    "article9 = {\"Title\": title9, \"Preview\": preview9}\n",
    "article10 = {\"Title\": title10, \"Preview\": preview10}\n",
    "article11 = {\"Title\": title11, \"Preview\": preview11}\n",
    "article12 = {\"Title\": title12, \"Preview\": preview12}\n",
    "article13 = {\"Title\": title13, \"Preview\": preview13}\n",
    "article14 = {\"Title\": title14, \"Preview\": preview14}\n",
    "article15 = {\"Title\": title15, \"Preview\": preview15}"
   ]
  },
  {
   "cell_type": "code",
   "execution_count": 13,
   "id": "a69034f9",
   "metadata": {},
   "outputs": [
    {
     "data": {
      "text/plain": [
       "[{'Title': \"3 Things We've Learned From NASA's Mars InSight \",\n",
       "  'Preview': 'Scientists are finding new mysteries since the geophysics mission landed two years ago.'},\n",
       " {'Title': \"Celebrate Mars Reconnaissance Orbiter's Views From Above\",\n",
       "  'Preview': 'Marking its 15th anniversary since launch, one of the oldest spacecraft at the Red Planet has provided glimpses of dust devils, avalanches, and more.'},\n",
       " {'Title': 'NASA Updates Mars 2020 Mission Environmental Review',\n",
       "  'Preview': 'NASA and the Department of Energy have completed a more detailed risk analysis for the Mars 2020 rover launch from Florida.'},\n",
       " {'Title': 'MOXIE Could Help Future Rockets Launch Off Mars',\n",
       "  'Preview': \"NASA's Perseverance rover carries a device to convert Martian air into oxygen that, if produced on a larger scale, could be used not just for breathing, but also for fuel.\"},\n",
       " {'Title': \"10.9 Million Names Now Aboard NASA's Perseverance Mars Rover\",\n",
       "  'Preview': \"As part of NASA's 'Send Your Name to Mars' campaign, they've been stenciled onto three microchips along with essays from NASA's 'Name the Rover' contest. Next stop: Mars.\"},\n",
       " {'Title': 'NASA Establishes Board to Initially Review Mars Sample Return Plans',\n",
       "  'Preview': 'The board will assist with analysis of current plans and goals for one of the most difficult missions humanity has ever undertaken.'},\n",
       " {'Title': \"Alabama High School Student Names NASA's Mars Helicopter\",\n",
       "  'Preview': \"Vaneeza Rupani's essay was chosen as the name for the small spacecraft, which will mark NASA's first attempt at powered flight on another planet.\"},\n",
       " {'Title': \"NASA's Mars Perseverance Rover Passes Flight Readiness Review\",\n",
       "  'Preview': \"\\u200bThe agency's Mars 2020 mission has one more big prelaunch review – the Launch Readiness Review, on July 27.\"},\n",
       " {'Title': \"A Martian Roundtrip: NASA's Perseverance Rover Sample Tubes\",\n",
       "  'Preview': \"Marvels of engineering, the rover's sample tubes must be tough enough to safely bring Red Planet samples on the long journey back to Earth in immaculate condition. \"},\n",
       " {'Title': 'NASA, ULA Launch Mars 2020 Perseverance Rover Mission to Red Planet',\n",
       "  'Preview': \"The agency's Mars 2020 mission is on its way. It will land at Jezero Crater in about seven months, on Feb. 18, 2021. \"},\n",
       " {'Title': 'Mars 2020 Unwrapped and Ready for More Testing',\n",
       "  'Preview': \"In time-lapse video, bunny-suited engineers remove the inner layer of protective foil on NASA's Mars 2020 rover after it was relocated for testing.\"},\n",
       " {'Title': \"NASA's Perseverance Rover Is Midway to Mars \",\n",
       "  'Preview': \"Sometimes half measures can be a good thing – especially on a journey this long. The agency's latest rover only has about 146 million miles left to reach its destination.\"},\n",
       " {'Title': \"NASA's Perseverance Rover Will Look at Mars Through These 'Eyes'\",\n",
       "  'Preview': 'A pair of zoomable cameras will help scientists and rover drivers with high-resolution color images.'},\n",
       " {'Title': 'Global Storms on Mars Launch Dust Towers Into the Sky',\n",
       "  'Preview': 'A Mars Dust Tower Stands Out Dust storms are common on Mars. But every decade or so, something unpredictable happens: a series of runaway storms break out, covering the entire planet in a dusty haze.'},\n",
       " {'Title': \"NASA's Mars 2020 Rover Completes Its First Drive\",\n",
       "  'Preview': 'In a 10-plus-hour marathon, the rover steered, turned and drove in 3-foot (1-meter) increments over small ramps.'}]"
      ]
     },
     "execution_count": 13,
     "metadata": {},
     "output_type": "execute_result"
    }
   ],
   "source": [
    "article_list = [article1, \n",
    "                article2, \n",
    "                article3, \n",
    "                article4, \n",
    "                article5, \n",
    "                article6, \n",
    "                article7, \n",
    "                article8, \n",
    "                article9, \n",
    "                article10, \n",
    "                article11, \n",
    "                article12, \n",
    "                article13, \n",
    "                article14, \n",
    "                article15]\n",
    "\n",
    "article_list"
   ]
  },
  {
   "cell_type": "code",
   "execution_count": null,
   "id": "ac32eeec",
   "metadata": {},
   "outputs": [],
   "source": []
  },
  {
   "cell_type": "code",
   "execution_count": null,
   "id": "0e3151f2",
   "metadata": {},
   "outputs": [],
   "source": [
    "browser.quit()"
   ]
  }
 ],
 "metadata": {
  "kernelspec": {
   "display_name": "Python 3 (ipykernel)",
   "language": "python",
   "name": "python3"
  },
  "language_info": {
   "codemirror_mode": {
    "name": "ipython",
    "version": 3
   },
   "file_extension": ".py",
   "mimetype": "text/x-python",
   "name": "python",
   "nbconvert_exporter": "python",
   "pygments_lexer": "ipython3",
   "version": "3.7.7"
  }
 },
 "nbformat": 4,
 "nbformat_minor": 5
}
